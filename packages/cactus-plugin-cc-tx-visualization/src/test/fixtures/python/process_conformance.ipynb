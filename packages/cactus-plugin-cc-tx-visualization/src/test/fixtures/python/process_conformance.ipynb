{
 "cells": [
  {
   "cell_type": "code",
   "execution_count": 2,
   "metadata": {
    "collapsed": false,
    "pycharm": {
     "name": "#%%\n"
    }
   },
   "outputs": [
    {
     "ename": "ImportError",
     "evalue": "dlopen(/Library/Frameworks/Python.framework/Versions/3.10/lib/python3.10/site-packages/cvxopt/base.cpython-310-darwin.so, 0x0002): tried: '/Library/Frameworks/Python.framework/Versions/3.10/lib/python3.10/site-packages/cvxopt/base.cpython-310-darwin.so' (mach-o file, but is an incompatible architecture (have (x86_64), need (arm64e)))",
     "output_type": "error",
     "traceback": [
      "\u001b[0;31m---------------------------------------------------------------------------\u001b[0m",
      "\u001b[0;31mImportError\u001b[0m                               Traceback (most recent call last)",
      "\u001b[1;32m/Users/rafaelapb/Projects/cactus-with-branches/packages/cactus-plugin-cc-tx-visualization/src/test/fixtures/python/process_conformance.ipynb Cell 1\u001b[0m in \u001b[0;36m<cell line: 4>\u001b[0;34m()\u001b[0m\n\u001b[1;32m      <a href='vscode-notebook-cell:/Users/rafaelapb/Projects/cactus-with-branches/packages/cactus-plugin-cc-tx-visualization/src/test/fixtures/python/process_conformance.ipynb#W0sZmlsZQ%3D%3D?line=0'>1</a>\u001b[0m \u001b[39mimport\u001b[39;00m \u001b[39mos\u001b[39;00m\u001b[39m# uncomment if problems with dependencies\u001b[39;00m\n\u001b[1;32m      <a href='vscode-notebook-cell:/Users/rafaelapb/Projects/cactus-with-branches/packages/cactus-plugin-cc-tx-visualization/src/test/fixtures/python/process_conformance.ipynb#W0sZmlsZQ%3D%3D?line=1'>2</a>\u001b[0m \u001b[39m#%pip install pm4py\u001b[39;00m\n\u001b[1;32m      <a href='vscode-notebook-cell:/Users/rafaelapb/Projects/cactus-with-branches/packages/cactus-plugin-cc-tx-visualization/src/test/fixtures/python/process_conformance.ipynb#W0sZmlsZQ%3D%3D?line=2'>3</a>\u001b[0m \u001b[39m#%pip install pandas\u001b[39;00m\n\u001b[0;32m----> <a href='vscode-notebook-cell:/Users/rafaelapb/Projects/cactus-with-branches/packages/cactus-plugin-cc-tx-visualization/src/test/fixtures/python/process_conformance.ipynb#W0sZmlsZQ%3D%3D?line=3'>4</a>\u001b[0m \u001b[39mimport\u001b[39;00m \u001b[39mpm4py\u001b[39;00m\n\u001b[1;32m      <a href='vscode-notebook-cell:/Users/rafaelapb/Projects/cactus-with-branches/packages/cactus-plugin-cc-tx-visualization/src/test/fixtures/python/process_conformance.ipynb#W0sZmlsZQ%3D%3D?line=4'>5</a>\u001b[0m \u001b[39mimport\u001b[39;00m \u001b[39mdatetime\u001b[39;00m \u001b[39mas\u001b[39;00m \u001b[39mdt\u001b[39;00m\n\u001b[1;32m      <a href='vscode-notebook-cell:/Users/rafaelapb/Projects/cactus-with-branches/packages/cactus-plugin-cc-tx-visualization/src/test/fixtures/python/process_conformance.ipynb#W0sZmlsZQ%3D%3D?line=5'>6</a>\u001b[0m \u001b[39mimport\u001b[39;00m \u001b[39mtime\u001b[39;00m\n",
      "File \u001b[0;32m/Library/Frameworks/Python.framework/Versions/3.10/lib/python3.10/site-packages/pm4py/__init__.py:20\u001b[0m, in \u001b[0;36m<module>\u001b[0;34m\u001b[0m\n\u001b[1;32m     17\u001b[0m \u001b[39mimport\u001b[39;00m \u001b[39msys\u001b[39;00m\n\u001b[1;32m     18\u001b[0m \u001b[39mimport\u001b[39;00m \u001b[39mtime\u001b[39;00m\n\u001b[0;32m---> 20\u001b[0m \u001b[39mfrom\u001b[39;00m \u001b[39mpm4py\u001b[39;00m \u001b[39mimport\u001b[39;00m util, objects, statistics, algo, visualization\n\u001b[1;32m     21\u001b[0m \u001b[39mfrom\u001b[39;00m \u001b[39mpm4py\u001b[39;00m\u001b[39m.\u001b[39;00m\u001b[39manalysis\u001b[39;00m \u001b[39mimport\u001b[39;00m check_soundness, solve_marking_equation, solve_extended_marking_equation, \\\n\u001b[1;32m     22\u001b[0m     construct_synchronous_product_net, insert_artificial_start_end\n\u001b[1;32m     23\u001b[0m \u001b[39mfrom\u001b[39;00m \u001b[39mpm4py\u001b[39;00m\u001b[39m.\u001b[39;00m\u001b[39mconformance\u001b[39;00m \u001b[39mimport\u001b[39;00m conformance_diagnostics_token_based_replay, conformance_diagnostics_alignments, \\\n\u001b[1;32m     24\u001b[0m     fitness_token_based_replay, \\\n\u001b[1;32m     25\u001b[0m     fitness_alignments, precision_token_based_replay, \\\n\u001b[1;32m     26\u001b[0m     precision_alignments, conformance_alignments, conformance_tbr, evaluate_precision_alignments, \\\n\u001b[1;32m     27\u001b[0m     evaluate_precision_tbr, evaluate_fitness_tbr, evaluate_fitness_alignments, conformance_diagnostics_footprints, \\\n\u001b[1;32m     28\u001b[0m     fitness_footprints, precision_footprints, check_is_fitting\n",
      "File \u001b[0;32m/Library/Frameworks/Python.framework/Versions/3.10/lib/python3.10/site-packages/pm4py/util/__init__.py:18\u001b[0m, in \u001b[0;36m<module>\u001b[0;34m\u001b[0m\n\u001b[1;32m      1\u001b[0m \u001b[39m'''\u001b[39;00m\n\u001b[1;32m      2\u001b[0m \u001b[39m    This file is part of PM4Py (More Info: https://pm4py.fit.fraunhofer.de).\u001b[39;00m\n\u001b[1;32m      3\u001b[0m \n\u001b[0;32m   (...)\u001b[0m\n\u001b[1;32m     15\u001b[0m \u001b[39m    along with PM4Py.  If not, see <https://www.gnu.org/licenses/>.\u001b[39;00m\n\u001b[1;32m     16\u001b[0m \u001b[39m'''\u001b[39;00m\n\u001b[0;32m---> 18\u001b[0m \u001b[39mfrom\u001b[39;00m \u001b[39mpm4py\u001b[39;00m\u001b[39m.\u001b[39;00m\u001b[39mutil\u001b[39;00m \u001b[39mimport\u001b[39;00m variants_util, lp, constants, points_subset, business_hours, regex, xes_constants, vis_utils, \\\n\u001b[1;32m     19\u001b[0m     dt_parsing, colors, exec_utils, pandas_utils, typing\n",
      "File \u001b[0;32m/Library/Frameworks/Python.framework/Versions/3.10/lib/python3.10/site-packages/pm4py/util/lp/__init__.py:17\u001b[0m, in \u001b[0;36m<module>\u001b[0;34m\u001b[0m\n\u001b[1;32m      1\u001b[0m \u001b[39m'''\u001b[39;00m\n\u001b[1;32m      2\u001b[0m \u001b[39m    This file is part of PM4Py (More Info: https://pm4py.fit.fraunhofer.de).\u001b[39;00m\n\u001b[1;32m      3\u001b[0m \n\u001b[0;32m   (...)\u001b[0m\n\u001b[1;32m     15\u001b[0m \u001b[39m    along with PM4Py.  If not, see <https://www.gnu.org/licenses/>.\u001b[39;00m\n\u001b[1;32m     16\u001b[0m \u001b[39m'''\u001b[39;00m\n\u001b[0;32m---> 17\u001b[0m \u001b[39mfrom\u001b[39;00m \u001b[39mpm4py\u001b[39;00m\u001b[39m.\u001b[39;00m\u001b[39mutil\u001b[39;00m\u001b[39m.\u001b[39;00m\u001b[39mlp\u001b[39;00m \u001b[39mimport\u001b[39;00m solver, util, variants\n",
      "File \u001b[0;32m/Library/Frameworks/Python.framework/Versions/3.10/lib/python3.10/site-packages/pm4py/util/lp/solver.py:58\u001b[0m, in \u001b[0;36m<module>\u001b[0;34m\u001b[0m\n\u001b[1;32m     55\u001b[0m     DEFAULT_LP_SOLVER_VARIANT \u001b[39m=\u001b[39m SCIPY\n\u001b[1;32m     57\u001b[0m \u001b[39mif\u001b[39;00m pkgutil\u001b[39m.\u001b[39mfind_loader(\u001b[39m\"\u001b[39m\u001b[39mcvxopt\u001b[39m\u001b[39m\"\u001b[39m):\n\u001b[0;32m---> 58\u001b[0m     \u001b[39mfrom\u001b[39;00m \u001b[39mpm4py\u001b[39;00m\u001b[39m.\u001b[39;00m\u001b[39mutil\u001b[39;00m\u001b[39m.\u001b[39;00m\u001b[39mlp\u001b[39;00m\u001b[39m.\u001b[39;00m\u001b[39mvariants\u001b[39;00m \u001b[39mimport\u001b[39;00m cvxopt_solver, cvxopt_solver_custom_align, cvxopt_solver_custom_align_ilp, \\\n\u001b[1;32m     59\u001b[0m         cvxopt_solver_custom_align_arm\n\u001b[1;32m     61\u001b[0m     custom_solver \u001b[39m=\u001b[39m cvxopt_solver_custom_align\n\u001b[1;32m     62\u001b[0m     \u001b[39mtry\u001b[39;00m:\n\u001b[1;32m     63\u001b[0m         \u001b[39m# for ARM-based Linux, we need to use a different call to GLPK\u001b[39;00m\n",
      "File \u001b[0;32m/Library/Frameworks/Python.framework/Versions/3.10/lib/python3.10/site-packages/pm4py/util/lp/variants/cvxopt_solver.py:19\u001b[0m, in \u001b[0;36m<module>\u001b[0;34m\u001b[0m\n\u001b[1;32m      1\u001b[0m \u001b[39m'''\u001b[39;00m\n\u001b[1;32m      2\u001b[0m \u001b[39m    This file is part of PM4Py (More Info: https://pm4py.fit.fraunhofer.de).\u001b[39;00m\n\u001b[1;32m      3\u001b[0m \n\u001b[0;32m   (...)\u001b[0m\n\u001b[1;32m     15\u001b[0m \u001b[39m    along with PM4Py.  If not, see <https://www.gnu.org/licenses/>.\u001b[39;00m\n\u001b[1;32m     16\u001b[0m \u001b[39m'''\u001b[39;00m\n\u001b[1;32m     17\u001b[0m \u001b[39mimport\u001b[39;00m \u001b[39msys\u001b[39;00m\n\u001b[0;32m---> 19\u001b[0m \u001b[39mfrom\u001b[39;00m \u001b[39mcvxopt\u001b[39;00m \u001b[39mimport\u001b[39;00m matrix, solvers\n\u001b[1;32m     22\u001b[0m \u001b[39mdef\u001b[39;00m \u001b[39mapply\u001b[39m(c, Aub, bub, Aeq, beq, parameters\u001b[39m=\u001b[39m\u001b[39mNone\u001b[39;00m):\n\u001b[1;32m     23\u001b[0m     \u001b[39m\"\"\"\u001b[39;00m\n\u001b[1;32m     24\u001b[0m \u001b[39m    Gets the overall solution of the problem\u001b[39;00m\n\u001b[1;32m     25\u001b[0m \n\u001b[0;32m   (...)\u001b[0m\n\u001b[1;32m     44\u001b[0m \u001b[39m        Solution of the LP problem by the given algorithm\u001b[39;00m\n\u001b[1;32m     45\u001b[0m \u001b[39m    \"\"\"\u001b[39;00m\n",
      "File \u001b[0;32m/Library/Frameworks/Python.framework/Versions/3.10/lib/python3.10/site-packages/cvxopt/__init__.py:50\u001b[0m, in \u001b[0;36m<module>\u001b[0;34m\u001b[0m\n\u001b[1;32m     33\u001b[0m __copyright__ \u001b[39m=\u001b[39m \u001b[39m\"\"\"\u001b[39m\u001b[39mCopyright (c) 2012-2022 M. Andersen and L. Vandenberghe.\u001b[39m\n\u001b[1;32m     34\u001b[0m \u001b[39mCopyright (c) 2010-2011 L. Vandenberghe.\u001b[39m\n\u001b[1;32m     35\u001b[0m \u001b[39mCopyright (c) 2004-2009 J. Dahl and L. Vandenberghe.\u001b[39m\u001b[39m\"\"\"\u001b[39m\n\u001b[1;32m     37\u001b[0m __license__ \u001b[39m=\u001b[39m \u001b[39m\"\"\"\u001b[39m\u001b[39mThis program is free software; you can redistribute it and/or modify\u001b[39m\n\u001b[1;32m     38\u001b[0m \u001b[39mit under the terms of the GNU General Public License as published by\u001b[39m\n\u001b[1;32m     39\u001b[0m \u001b[39mthe Free Software Foundation; either version 3 of the License, or\u001b[39m\n\u001b[0;32m   (...)\u001b[0m\n\u001b[1;32m     47\u001b[0m \u001b[39mYou should have received a copy of the GNU General Public License\u001b[39m\n\u001b[1;32m     48\u001b[0m \u001b[39malong with this program.  If not, see <http://www.gnu.org/licenses/>.\u001b[39m\u001b[39m\"\"\"\u001b[39m\n\u001b[0;32m---> 50\u001b[0m \u001b[39mimport\u001b[39;00m \u001b[39mcvxopt\u001b[39;00m\u001b[39m.\u001b[39;00m\u001b[39mbase\u001b[39;00m\n\u001b[1;32m     52\u001b[0m \u001b[39mdef\u001b[39;00m \u001b[39mcopyright\u001b[39m():\n\u001b[1;32m     53\u001b[0m     \u001b[39mprint\u001b[39m(__copyright__)\n",
      "\u001b[0;31mImportError\u001b[0m: dlopen(/Library/Frameworks/Python.framework/Versions/3.10/lib/python3.10/site-packages/cvxopt/base.cpython-310-darwin.so, 0x0002): tried: '/Library/Frameworks/Python.framework/Versions/3.10/lib/python3.10/site-packages/cvxopt/base.cpython-310-darwin.so' (mach-o file, but is an incompatible architecture (have (x86_64), need (arm64e)))"
     ]
    }
   ],
   "source": [
    "import os# uncomment if problems with dependencies\n",
    "#%pip install pm4py\n",
    "#%pip install pandas\n",
    "import pm4py\n",
    "import datetime as dt\n",
    "import time\n",
    "import pandas\n",
    "path = os.getcwd()\n",
    "parent = os.path.dirname(path)\n",
    "\n",
    "# Change path if necessary \n",
    "file_path = parent + \"/csv/use-case-besu-fabric-6-events.csv\"\n",
    "file_path_other_model = parent + \"/csv/dummy-use-case-invalid.csv\"\n",
    "\n",
    "import sys\n",
    "\n",
    "if __name__ == '__main__':\n",
    "    print(sys.argv)\n",
    "    print(file_path)\n",
    "\n",
    "\n",
    "\n",
    "# import sys\n",
    "\n",
    "# accept command line arguments\n",
    "# inputArg1 = sys.argv[1]\n",
    "\n",
    "#print('inputArg1: ',inputArg1)\n"
   ]
  },
  {
   "cell_type": "code",
   "execution_count": null,
   "metadata": {
    "collapsed": false,
    "pycharm": {
     "name": "#%%\n"
    }
   },
   "outputs": [],
   "source": [
    "\n",
    "\n",
    "def import_csv_original(file_path):\n",
    "    event_log = pandas.read_csv(file_path, sep=';')\n",
    "    event_log = pm4py.format_dataframe(event_log, case_id='caseID', activity_key='methodName', timestamp_key='timestamp')\n",
    "    return event_log\n",
    "\n",
    "def getStartActivities(event_log):\n",
    "    s = pm4py.get_start_activities(event_log)\n",
    "    print(\"Start activities: {}\\n\".format(s))\n",
    "    return s\n",
    "def getEndActivities(event_log):\n",
    "    e = pm4py.get_end_activities(event_log)\n",
    "    print(\"End activities: {}\\n\".format(e))\n",
    "    return (e)\n",
    "\n",
    "def getAttributeFromLog(event_log, attr):\n",
    "    entries = pm4py.get_event_attribute_values(event_log,attr)\n",
    "    print(\"Entries: {}\\n\".format(entries))\n",
    "    return entries\n"
   ]
  },
  {
   "cell_type": "code",
   "execution_count": null,
   "metadata": {},
   "outputs": [
    {
     "name": "stdout",
     "output_type": "stream",
     "text": [
      "[{'alignment': [('createAsset', 'createAsset'), ('MintAsset', '>>'), ('lockAsset', 'lockAsset'), ('>>', 'MintAsset'), ('transferAsset', 'transferAsset'), ('>>', None), ('transferAsset', 'transferAsset'), ('BurnAsset', 'BurnAsset')], 'cost': 20001, 'visited_states': 10, 'queued_states': 26, 'traversed_arcs': 28, 'lp_solved': 8, 'fitness': 0.8181818181818181, 'bwc': 110000}]\n"
     ]
    }
   ],
   "source": [
    "\n",
    "log = import_csv_original(file_path)\n",
    "log_other_model = import_csv_original(file_path_other_model)\n",
    "\n",
    "net, initial_marking, final_marking = pm4py.discover_petri_net_inductive(log)\n",
    "\n",
    "aligned_traces = pm4py.conformance_diagnostics_alignments(log_other_model, net, initial_marking, final_marking)\n",
    "\n",
    "print(aligned_traces)\n"
   ]
  }
 ],
 "metadata": {
  "kernelspec": {
   "display_name": "Python 3.10.2 64-bit",
   "language": "python",
   "name": "python3"
  },
  "language_info": {
   "codemirror_mode": {
    "name": "ipython",
    "version": 3
   },
   "file_extension": ".py",
   "mimetype": "text/x-python",
   "name": "python",
   "nbconvert_exporter": "python",
   "pygments_lexer": "ipython3",
   "version": "3.10.2"
  },
  "vscode": {
   "interpreter": {
    "hash": "aee8b7b246df8f9039afb4144a1f6fd8d2ca17a180786b69acc140d282b71a49"
   }
  }
 },
 "nbformat": 4,
 "nbformat_minor": 0
}
