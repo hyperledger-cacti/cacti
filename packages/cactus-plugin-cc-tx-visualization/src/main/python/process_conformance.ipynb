{
 "cells": [
  {
   "cell_type": "code",
   "execution_count": 18,
   "metadata": {
    "collapsed": false,
    "pycharm": {
     "name": "#%%\n"
    }
   },
   "outputs": [
    {
     "name": "stdout",
     "output_type": "stream",
     "text": [
      "['/home/rafaelapb/.local/lib/python3.8/site-packages/ipykernel_launcher.py', '--ip=127.0.0.1', '--stdin=9003', '--control=9001', '--hb=9000', '--Session.signature_scheme=\"hmac-sha256\"', '--Session.key=b\"b393a705-e224-43f8-9983-d1278bb39d41\"', '--shell=9002', '--transport=\"tcp\"', '--iopub=9004', '--f=/home/rafaelapb/.local/share/jupyter/runtime/kernel-v2-23391NOCP19z4PD8.json']\n",
      "/home/rbelchior/blockchain-integration-framework/packages/cactus-plugin-cc-tx-visualization/src/main/csv/use-case-besu-fabric-6-events.csv\n"
     ]
    }
   ],
   "source": [
    "import os# uncomment if problems with dependencies\n",
    "#%pip install pm4py\n",
    "#%pip install pandas\n",
    "import pm4py\n",
    "import datetime as dt\n",
    "import time\n",
    "import pandas\n",
    "path = os.getcwd()\n",
    "parent = os.path.dirname(path)\n",
    "file_path = parent + \"/csv/use-case-besu-fabric-6-events.csv\"\n",
    "file_path_other_model = parent + \"/csv/dummy-use-case-invalid.csv\"\n",
    "\n",
    "import sys\n",
    "\n",
    "if __name__ == '__main__':\n",
    "    print(sys.argv)\n",
    "    print(file_path)\n",
    "\n",
    "\n",
    "\n",
    "# import sys\n",
    "\n",
    "# accept command line arguments\n",
    "# inputArg1 = sys.argv[1]\n",
    "\n",
    "#print('inputArg1: ',inputArg1)\n"
   ]
  },
  {
   "cell_type": "code",
   "execution_count": 19,
   "metadata": {
    "collapsed": false,
    "pycharm": {
     "name": "#%%\n"
    }
   },
   "outputs": [],
   "source": [
    "\n",
    "\n",
    "def import_csv_original(file_path):\n",
    "    event_log = pandas.read_csv(file_path, sep=';')\n",
    "    event_log = pm4py.format_dataframe(event_log, case_id='caseID', activity_key='methodName', timestamp_key='timestamp')\n",
    "    return event_log\n",
    "\n",
    "def getStartActivities(event_log):\n",
    "    s = pm4py.get_start_activities(event_log)\n",
    "    print(\"Start activities: {}\\n\".format(s))\n",
    "    return s\n",
    "def getEndActivities(event_log):\n",
    "    e = pm4py.get_end_activities(event_log)\n",
    "    print(\"End activities: {}\\n\".format(e))\n",
    "    return (e)\n",
    "\n",
    "def getAttributeFromLog(event_log, attr):\n",
    "    entries = pm4py.get_event_attribute_values(event_log,attr)\n",
    "    print(\"Entries: {}\\n\".format(entries))\n",
    "    return entries\n"
   ]
  },
  {
   "cell_type": "code",
   "execution_count": 20,
   "metadata": {},
   "outputs": [
    {
     "name": "stdout",
     "output_type": "stream",
     "text": [
      "[{'alignment': [('createAsset', 'createAsset'), ('MintAsset', '>>'), ('lockAsset', 'lockAsset'), ('>>', 'MintAsset'), ('transferAsset', 'transferAsset'), ('>>', None), ('transferAsset', 'transferAsset'), ('BurnAsset', 'BurnAsset')], 'cost': 20001, 'visited_states': 10, 'queued_states': 26, 'traversed_arcs': 28, 'lp_solved': 8, 'fitness': 0.8181818181818181, 'bwc': 110000}]\n"
     ]
    }
   ],
   "source": [
    "\n",
    "log = import_csv_original(file_path)\n",
    "log_other_model = import_csv_original(file_path_other_model)\n",
    "\n",
    "net, initial_marking, final_marking = pm4py.discover_petri_net_inductive(log)\n",
    "\n",
    "aligned_traces = pm4py.conformance_diagnostics_alignments(log_other_model, net, initial_marking, final_marking)\n",
    "\n",
    "print(aligned_traces)\n"
   ]
  }
 ],
 "metadata": {
  "kernelspec": {
   "display_name": "Python 3.8.10 64-bit",
   "language": "python",
   "name": "python3"
  },
  "language_info": {
   "codemirror_mode": {
    "name": "ipython",
    "version": 3
   },
   "file_extension": ".py",
   "mimetype": "text/x-python",
   "name": "python",
   "nbconvert_exporter": "python",
   "pygments_lexer": "ipython3",
   "version": "3.8.10"
  },
  "vscode": {
   "interpreter": {
    "hash": "916dbcbb3f70747c44a77c7bcd40155683ae19c65e1c03b4aa3499c5328201f1"
   }
  }
 },
 "nbformat": 4,
 "nbformat_minor": 0
}
